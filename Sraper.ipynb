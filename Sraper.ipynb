{
  "nbformat": 4,
  "nbformat_minor": 0,
  "metadata": {
    "colab": {
      "name": "Srape3.ipynb",
      "provenance": [],
      "collapsed_sections": [],
      "authorship_tag": "ABX9TyMWoisKo61rgBCEoaiJti+f",
      "include_colab_link": true
    },
    "kernelspec": {
      "name": "python3",
      "display_name": "Python 3"
    }
  },
  "cells": [
    {
      "cell_type": "markdown",
      "metadata": {
        "id": "view-in-github",
        "colab_type": "text"
      },
      "source": [
        "<a href=\"https://colab.research.google.com/github/jeefery/bursa/blob/main/Sraper.ipynb\" target=\"_parent\"><img src=\"https://colab.research.google.com/assets/colab-badge.svg\" alt=\"Open In Colab\"/></a>"
      ]
    },
    {
      "cell_type": "code",
      "metadata": {
        "colab": {
          "base_uri": "https://localhost:8080/",
          "height": 384
        },
        "id": "tejwxxyrtffl",
        "outputId": "3225c9b1-0dc2-4aea-9503-e182bb2ad70a"
      },
      "source": [
        "import requests\r\n",
        "from bs4 import BeautifulSoup\r\n",
        "import lxml.html\r\n",
        "import webbrowser\r\n",
        "import pprint\r\n",
        "\r\n",
        "def connectAllPriceTarget():\r\n",
        "    global soup\r\n",
        "    priceTargetUrl = 'https://klse.i3investor.com/jsp/pt.jsp' # get url\r\n",
        "    page = requests.get(priceTargetUrl) # connect to page\r\n",
        "    html = page.content # get html content\r\n",
        "    soup = BeautifulSoup(html) #beautify the html page\r\n",
        "    pprint.pprint(page)\r\n",
        "    pprint.pprint(soup)\r\n",
        "\r\n",
        "def compileStocksAndLinks():\r\n",
        "    table = soup.find('table', {'class': 'nc'})\r\n",
        "    print(table)\r\n",
        "    #for each row, there are many rows including no table\r\n",
        "    global stockNames, priceTargetLinks\r\n",
        "    stockNames = []\r\n",
        "    priceTargetLinks = []\r\n",
        "    for tr in table.findAll('tr'):\r\n",
        "        center = tr.find('td', {'class': 'center'}) # for each center\r\n",
        "        # not all rows have 'center' (price call)\r\n",
        "        if(center and center.text == \"BUY\" and tr.find('a').get('href') not in priceTargetLinks):\r\n",
        "            leftTag = tr.findAll('td', {'class': 'left'}) # find all 'left' that in that row\r\n",
        "            stockNames += [leftTag[1].text]\r\n",
        "            priceTargetLinks += [tr.find('a').get('href')]\r\n",
        "\r\n",
        "def openPriceTargetLink():\r\n",
        "    for link in priceTargetLinks:\r\n",
        "        url = 'https://klse.i3investor.com' + link\r\n",
        "        webbrowser.open(url, new=0, autoraise=True)\r\n",
        "\r\n",
        "################################################################################\r\n",
        "# START HERE                                                                   #\r\n",
        "################################################################################\r\n",
        "connectAllPriceTarget()\r\n",
        "compileStocksAndLinks()\r\n",
        "openPriceTargetLink()"
      ],
      "execution_count": 6,
      "outputs": [
        {
          "output_type": "stream",
          "text": [
            "<Response [403]>\n",
            "\n",
            "None\n"
          ],
          "name": "stdout"
        },
        {
          "output_type": "error",
          "ename": "AttributeError",
          "evalue": "ignored",
          "traceback": [
            "\u001b[0;31m---------------------------------------------------------------------------\u001b[0m",
            "\u001b[0;31mAttributeError\u001b[0m                            Traceback (most recent call last)",
            "\u001b[0;32m<ipython-input-6-a16cda5740f6>\u001b[0m in \u001b[0;36m<module>\u001b[0;34m()\u001b[0m\n\u001b[1;32m     38\u001b[0m \u001b[0;31m################################################################################\u001b[0m\u001b[0;34m\u001b[0m\u001b[0;34m\u001b[0m\u001b[0;34m\u001b[0m\u001b[0m\n\u001b[1;32m     39\u001b[0m \u001b[0mconnectAllPriceTarget\u001b[0m\u001b[0;34m(\u001b[0m\u001b[0;34m)\u001b[0m\u001b[0;34m\u001b[0m\u001b[0;34m\u001b[0m\u001b[0m\n\u001b[0;32m---> 40\u001b[0;31m \u001b[0mcompileStocksAndLinks\u001b[0m\u001b[0;34m(\u001b[0m\u001b[0;34m)\u001b[0m\u001b[0;34m\u001b[0m\u001b[0;34m\u001b[0m\u001b[0m\n\u001b[0m\u001b[1;32m     41\u001b[0m \u001b[0mopenPriceTargetLink\u001b[0m\u001b[0;34m(\u001b[0m\u001b[0;34m)\u001b[0m\u001b[0;34m\u001b[0m\u001b[0;34m\u001b[0m\u001b[0m\n",
            "\u001b[0;32m<ipython-input-6-a16cda5740f6>\u001b[0m in \u001b[0;36mcompileStocksAndLinks\u001b[0;34m()\u001b[0m\n\u001b[1;32m     21\u001b[0m     \u001b[0mstockNames\u001b[0m \u001b[0;34m=\u001b[0m \u001b[0;34m[\u001b[0m\u001b[0;34m]\u001b[0m\u001b[0;34m\u001b[0m\u001b[0;34m\u001b[0m\u001b[0m\n\u001b[1;32m     22\u001b[0m     \u001b[0mpriceTargetLinks\u001b[0m \u001b[0;34m=\u001b[0m \u001b[0;34m[\u001b[0m\u001b[0;34m]\u001b[0m\u001b[0;34m\u001b[0m\u001b[0;34m\u001b[0m\u001b[0m\n\u001b[0;32m---> 23\u001b[0;31m     \u001b[0;32mfor\u001b[0m \u001b[0mtr\u001b[0m \u001b[0;32min\u001b[0m \u001b[0mtable\u001b[0m\u001b[0;34m.\u001b[0m\u001b[0mfindAll\u001b[0m\u001b[0;34m(\u001b[0m\u001b[0;34m'tr'\u001b[0m\u001b[0;34m)\u001b[0m\u001b[0;34m:\u001b[0m\u001b[0;34m\u001b[0m\u001b[0;34m\u001b[0m\u001b[0m\n\u001b[0m\u001b[1;32m     24\u001b[0m         \u001b[0mcenter\u001b[0m \u001b[0;34m=\u001b[0m \u001b[0mtr\u001b[0m\u001b[0;34m.\u001b[0m\u001b[0mfind\u001b[0m\u001b[0;34m(\u001b[0m\u001b[0;34m'td'\u001b[0m\u001b[0;34m,\u001b[0m \u001b[0;34m{\u001b[0m\u001b[0;34m'class'\u001b[0m\u001b[0;34m:\u001b[0m \u001b[0;34m'center'\u001b[0m\u001b[0;34m}\u001b[0m\u001b[0;34m)\u001b[0m \u001b[0;31m# for each center\u001b[0m\u001b[0;34m\u001b[0m\u001b[0;34m\u001b[0m\u001b[0m\n\u001b[1;32m     25\u001b[0m         \u001b[0;31m# not all rows have 'center' (price call)\u001b[0m\u001b[0;34m\u001b[0m\u001b[0;34m\u001b[0m\u001b[0;34m\u001b[0m\u001b[0m\n",
            "\u001b[0;31mAttributeError\u001b[0m: 'NoneType' object has no attribute 'findAll'"
          ]
        }
      ]
    }
  ]
}