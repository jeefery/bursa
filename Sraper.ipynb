{
  "nbformat": 4,
  "nbformat_minor": 0,
  "metadata": {
    "colab": {
      "name": "Srape3.ipynb",
      "provenance": [],
      "collapsed_sections": [],
      "authorship_tag": "ABX9TyOAKe2D8XHsGCqghBYSvnCF",
      "include_colab_link": true
    },
    "kernelspec": {
      "name": "python3",
      "display_name": "Python 3"
    }
  },
  "cells": [
    {
      "cell_type": "markdown",
      "metadata": {
        "id": "view-in-github",
        "colab_type": "text"
      },
      "source": [
        "<a href=\"https://colab.research.google.com/github/jeefery/bursa/blob/main/Sraper.ipynb\" target=\"_parent\"><img src=\"https://colab.research.google.com/assets/colab-badge.svg\" alt=\"Open In Colab\"/></a>"
      ]
    },
    {
      "cell_type": "code",
      "metadata": {
        "colab": {
          "base_uri": "https://localhost:8080/"
        },
        "id": "tejwxxyrtffl",
        "outputId": "2ee29753-ff70-4b86-a6ad-535a4d8f6a7a"
      },
      "source": [
        "import requests\r\n",
        "from bs4 import BeautifulSoup\r\n",
        "import lxml.html\r\n",
        "import webbrowser\r\n",
        "import pprint\r\n",
        "\r\n",
        "def connectAllPriceTarget():\r\n",
        "    global soup\r\n",
        "    priceTargetUrl = 'https://klse.i3investor.com/jsp/pt.jsp' # get url\r\n",
        "    page = requests.get(priceTargetUrl) # connect to page\r\n",
        "    html = page.content # get html content\r\n",
        "    soup = BeautifulSoup(html) #beautify the html page\r\n",
        "    pprint.pprint(page)\r\n",
        "    pprint.pprint(soup)\r\n",
        "\r\n",
        "def compileStocksAndLinks():\r\n",
        "    table = soup.find('table', {'class': 'nc'})\r\n",
        "    print(table)\r\n",
        "    #for each row, there are many rows including no table\r\n",
        "    global stockNames, priceTargetLinks\r\n",
        "    stockNames = []\r\n",
        "    priceTargetLinks = []\r\n",
        "    for tr in table.findAll('tr'):\r\n",
        "        center = tr.find('td', {'class': 'center'}) # for each center\r\n",
        "        # not all rows have 'center' (price call)\r\n",
        "    #    if(center and center.text == \"BUY\" and tr.find('a').get('href') not in priceTargetLinks):\r\n",
        "    #        leftTag = tr.findAll('td', {'class': 'left'}) # find all 'left' that in that row\r\n",
        "    #        stockNames += [leftTag[1].text]\r\n",
        "    #        priceTargetLinks += [tr.find('a').get('href')]\r\n",
        "\r\n",
        "def openPriceTargetLink():\r\n",
        "    for link in priceTargetLinks:\r\n",
        "        url = 'http://klse.i3investor.com' + link\r\n",
        "        webbrowser.open(url, new=0, autoraise=True)\r\n",
        "\r\n",
        "################################################################################\r\n",
        "# START HERE                                                                   #\r\n",
        "################################################################################\r\n",
        "connectAllPriceTarget()\r\n",
        "#compileStocksAndLinks()\r\n",
        "#openPriceTargetLink()"
      ],
      "execution_count": 5,
      "outputs": [
        {
          "output_type": "stream",
          "text": [
            "<Response [403]>\n",
            "\n"
          ],
          "name": "stdout"
        }
      ]
    }
  ]
}